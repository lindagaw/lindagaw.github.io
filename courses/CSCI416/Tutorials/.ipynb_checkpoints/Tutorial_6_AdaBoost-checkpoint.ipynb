{
 "cells": [
  {
   "cell_type": "code",
   "execution_count": 7,
   "id": "dabd94b4",
   "metadata": {},
   "outputs": [],
   "source": [
    "# Load libraries\n",
    "from sklearn.ensemble import AdaBoostClassifier\n",
    "# We will use SVC as our base estimator\n",
    "from sklearn.svm import SVC\n",
    "from sklearn import datasets\n",
    "# Import train_test_split function\n",
    "from sklearn.model_selection import train_test_split\n",
    "#Import scikit-learn metrics module for accuracy calculation\n",
    "from sklearn import metrics"
   ]
  },
  {
   "cell_type": "code",
   "execution_count": 8,
   "id": "2f065902",
   "metadata": {},
   "outputs": [],
   "source": [
    "# Load data\n",
    "iris = datasets.load_iris()\n",
    "X = iris.data\n",
    "y = iris.target\n",
    "\n",
    "# Split dataset into training set and test set\n",
    "X_train, X_test, y_train, y_test = train_test_split(X, y, test_size=0.2)"
   ]
  },
  {
   "cell_type": "markdown",
   "id": "63b3bad3",
   "metadata": {},
   "source": [
    "### AdaBoostClassifier class\n",
    "\n",
    "- n_estimators=500: This parameter specifies the number of weak learners (base estimators) that AdaBoost will use to create a strong classifier. In this case, it's set to 500, meaning AdaBoost will combine the predictions of 500 weak learners to make a final classification.\n",
    "\n",
    "- algorithm='SAMME': AdaBoost has two algorithms for updating the weights of samples at each iteration, 'SAMME' (Stagewise Additive Modeling using a Multiclass Exponential loss function) and 'SAMME.R' (Real). 'SAMME' is the default option and is suitable for discrete (i.e., not probabilistic) classifiers.\n",
    "\n",
    "- base_estimator=base: This parameter specifies the base estimator, which is the type of weak learner that AdaBoost will use in each iteration. "
   ]
  },
  {
   "cell_type": "code",
   "execution_count": 17,
   "id": "126ca055",
   "metadata": {},
   "outputs": [],
   "source": [
    "# Create your base classifier\n",
    "base = SVC(kernel = 'linear', random_state = 0, C=100)\n",
    "\n",
    "# Create adaboost classifer object\n",
    "abc = AdaBoostClassifier(n_estimators=500, algorithm='SAMME', base_estimator = base)\n",
    "# Train Adaboost Classifer\n",
    "model = abc.fit(X_train, y_train)\n",
    "\n",
    "#Predict the response for test dataset\n",
    "y_pred = model.predict(X_test)"
   ]
  },
  {
   "cell_type": "code",
   "execution_count": 18,
   "id": "bd5c431c",
   "metadata": {},
   "outputs": [
    {
     "name": "stdout",
     "output_type": "stream",
     "text": [
      "Accuracy: 1.0\n"
     ]
    }
   ],
   "source": [
    "# Model Accuracy, how often is the classifier correct?\n",
    "print(\"Accuracy:\", metrics.accuracy_score(y_test, y_pred))"
   ]
  },
  {
   "cell_type": "markdown",
   "id": "13ab5a44",
   "metadata": {},
   "source": [
    "## Using Different Base Learners\n",
    "\n",
    "- We have used SVC as a base estimator. You can use any ML learner as base estimator if it accepts sample weight such as Decision Tree, Support Vector Classifier."
   ]
  },
  {
   "cell_type": "code",
   "execution_count": 20,
   "id": "b25df15d",
   "metadata": {},
   "outputs": [],
   "source": [
    "# import the decision classifier\n",
    "from sklearn import tree"
   ]
  },
  {
   "cell_type": "code",
   "execution_count": 21,
   "id": "a9a7dafb",
   "metadata": {},
   "outputs": [],
   "source": [
    "# Create your new base classifier\n",
    "base = tree.DecisionTreeClassifier()\n",
    "\n",
    "# Create adaboost classifer object\n",
    "abc = AdaBoostClassifier(n_estimators=500, algorithm='SAMME', base_estimator = base)\n",
    "# Train Adaboost Classifer\n",
    "model = abc.fit(X_train, y_train)\n",
    "\n",
    "#Predict the response for test dataset\n",
    "y_pred = model.predict(X_test)"
   ]
  },
  {
   "cell_type": "code",
   "execution_count": 22,
   "id": "fa5d8be7",
   "metadata": {},
   "outputs": [
    {
     "name": "stdout",
     "output_type": "stream",
     "text": [
      "Accuracy: 0.9777777777777777\n"
     ]
    }
   ],
   "source": [
    "# Model Accuracy, how often is the classifier correct?\n",
    "print(\"Accuracy:\", metrics.accuracy_score(y_test, y_pred))"
   ]
  },
  {
   "cell_type": "code",
   "execution_count": null,
   "id": "cef12fb7",
   "metadata": {},
   "outputs": [],
   "source": []
  }
 ],
 "metadata": {
  "kernelspec": {
   "display_name": "Python 3 (ipykernel)",
   "language": "python",
   "name": "python3"
  },
  "language_info": {
   "codemirror_mode": {
    "name": "ipython",
    "version": 3
   },
   "file_extension": ".py",
   "mimetype": "text/x-python",
   "name": "python",
   "nbconvert_exporter": "python",
   "pygments_lexer": "ipython3",
   "version": "3.10.6"
  }
 },
 "nbformat": 4,
 "nbformat_minor": 5
}
