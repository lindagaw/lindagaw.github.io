{
 "cells": [
  {
   "cell_type": "markdown",
   "id": "e0eef618",
   "metadata": {},
   "source": [
    "# K-nearest Neighbors\n",
    "\n",
    "The k-Nearest Neighbors (k-NN) algorithm is a popular and simple supervised machine learning algorithm. It's a type of instance-based learning or lazy learning, meaning it doesn't build a model during training but instead stores the entire training dataset in memory. When making predictions for new, unseen data points, k-NN looks at the k nearest neighbors from the training dataset and uses their labels to make predictions for the new data point.\n",
    "\n",
    "1. Data Preparation:\n",
    "- Gather a labeled dataset containing input data points and their corresponding class labels (for classification) or target values (for regression).\n",
    "- Define a distance metric (e.g., Euclidean distance, Manhattan distance) to measure the similarity or distance between data points. Euclidean distance is a common choice and works well in many cases.\n",
    "\n",
    "2. Choosing a Value for 'k':\n",
    "- Select a positive integer value for 'k,' which represents the number of nearest neighbors to consider when making predictions.\n",
    "- The choice of 'k' can significantly affect the algorithm's performance. Smaller 'k' values make predictions more sensitive to individual data points, while larger 'k' values make predictions more stable but potentially less accurate.\n",
    "\n",
    "3. Prediction for Classification:\n",
    "- To classify a new data point, calculate the distance between that point and all data points in the training set.\n",
    "- Identify the 'k' nearest neighbors with the smallest distances to the new data point.\n",
    "- Count the frequency of each class among these 'k' neighbors.\n",
    "- Assign the class label to the new data point based on the majority class among its 'k' nearest neighbors. In case of a tie, you can use different tie-breaking strategies."
   ]
  },
  {
   "cell_type": "code",
   "execution_count": 18,
   "id": "d84eadf5",
   "metadata": {},
   "outputs": [],
   "source": [
    "# import the libraries\n",
    "from sklearn import datasets, neighbors\n",
    "from sklearn.model_selection import train_test_split\n",
    "from sklearn.neighbors import KNeighborsClassifier\n",
    "\n",
    "from sklearn.metrics import accuracy_score\n",
    "\n",
    "from keras.datasets import mnist\n",
    "\n",
    "import numpy as np"
   ]
  },
  {
   "cell_type": "markdown",
   "id": "df87a585",
   "metadata": {},
   "source": [
    "## Libraries to import\n",
    "\n",
    "### sklearn\n",
    "- scikit-learn (sklearn) is a popular open-source Python library for machine learning that offers a wide range of tools and algorithms for building, evaluating, and deploying machine learning models. \n",
    "- It provides a consistent and user-friendly interface for tasks such as classification, regression, clustering, and data preprocessing.\n",
    "\n",
    "### keras\n",
    "- Keras is an open-source high-level neural networks API written in Python that makes it easy to design, train, and deploy deep learning models. \n",
    "- It provides a user-friendly and modular interface to popular deep learning frameworks like TensorFlow and Theano, simplifying the development of artificial neural networks for tasks such as image recognition and natural language processing.\n",
    "\n",
    "### numpy\n",
    "- NumPy, short for \"Numerical Python,\" is a fundamental Python library for numerical and mathematical operations. \n",
    "- It provides support for arrays and matrices, along with a wide range of mathematical functions, making it a powerful tool for scientific computing and data analysis in Python."
   ]
  },
  {
   "cell_type": "code",
   "execution_count": 7,
   "id": "796dc0cf",
   "metadata": {},
   "outputs": [
    {
     "name": "stdout",
     "output_type": "stream",
     "text": [
      "X train shape: (48000, 28, 28)\n",
      "y train shape: (48000,)\n",
      "X val shape: (12000, 28, 28)\n",
      "y val shape: (12000,)\n",
      "X test shape: (10000, 28, 28)\n",
      "y test shape: (10000,)\n"
     ]
    }
   ],
   "source": [
    "# load the mnist dataset from the internet\n",
    "(X_train, y_train), (X_test, y_test) = mnist.load_data()\n",
    "X_train, X_validation, y_train, y_validation = train_test_split(X_train, y_train, test_size=0.2, random_state=42)\n",
    "\n",
    "# checking shapes or dimensionalities\n",
    "print(\"X train shape:\", X_train.shape[0:])\n",
    "print(\"y train shape:\", y_train.shape[0:])\n",
    "print(\"X val shape:\", X_validation.shape[0:])\n",
    "print(\"y val shape:\", y_validation.shape[0:])\n",
    "print(\"X test shape:\", X_test.shape[0:])\n",
    "print(\"y test shape:\", y_test.shape[0:])"
   ]
  },
  {
   "cell_type": "code",
   "execution_count": 8,
   "id": "631e9edb",
   "metadata": {},
   "outputs": [
    {
     "name": "stdout",
     "output_type": "stream",
     "text": [
      "X train shape: (48000, 784)\n",
      "y train shape: (48000,)\n",
      "X val shape: (10000, 784)\n",
      "y val shape: (12000,)\n",
      "X test shape: (10000, 784)\n",
      "y test shape: (10000,)\n"
     ]
    }
   ],
   "source": [
    "# reshape flatten the vectors\n",
    "X_train = X_train.reshape((-1, 28*28))\n",
    "X_validation = X_test.reshape((-1, 28*28))\n",
    "X_test = X_test.reshape((-1, 28*28))\n",
    "\n",
    "# re-checking shapes or dimensionalities\n",
    "print(\"X train shape:\", X_train.shape[0:])\n",
    "print(\"y train shape:\", y_train.shape[0:])\n",
    "print(\"X val shape:\", X_validation.shape[0:])\n",
    "print(\"y val shape:\", y_validation.shape[0:])\n",
    "print(\"X test shape:\", X_test.shape[0:])\n",
    "print(\"y test shape:\", y_test.shape[0:])"
   ]
  },
  {
   "cell_type": "code",
   "execution_count": 11,
   "id": "2cc30759",
   "metadata": {},
   "outputs": [
    {
     "data": {
      "text/html": [
       "<style>#sk-container-id-2 {color: black;background-color: white;}#sk-container-id-2 pre{padding: 0;}#sk-container-id-2 div.sk-toggleable {background-color: white;}#sk-container-id-2 label.sk-toggleable__label {cursor: pointer;display: block;width: 100%;margin-bottom: 0;padding: 0.3em;box-sizing: border-box;text-align: center;}#sk-container-id-2 label.sk-toggleable__label-arrow:before {content: \"▸\";float: left;margin-right: 0.25em;color: #696969;}#sk-container-id-2 label.sk-toggleable__label-arrow:hover:before {color: black;}#sk-container-id-2 div.sk-estimator:hover label.sk-toggleable__label-arrow:before {color: black;}#sk-container-id-2 div.sk-toggleable__content {max-height: 0;max-width: 0;overflow: hidden;text-align: left;background-color: #f0f8ff;}#sk-container-id-2 div.sk-toggleable__content pre {margin: 0.2em;color: black;border-radius: 0.25em;background-color: #f0f8ff;}#sk-container-id-2 input.sk-toggleable__control:checked~div.sk-toggleable__content {max-height: 200px;max-width: 100%;overflow: auto;}#sk-container-id-2 input.sk-toggleable__control:checked~label.sk-toggleable__label-arrow:before {content: \"▾\";}#sk-container-id-2 div.sk-estimator input.sk-toggleable__control:checked~label.sk-toggleable__label {background-color: #d4ebff;}#sk-container-id-2 div.sk-label input.sk-toggleable__control:checked~label.sk-toggleable__label {background-color: #d4ebff;}#sk-container-id-2 input.sk-hidden--visually {border: 0;clip: rect(1px 1px 1px 1px);clip: rect(1px, 1px, 1px, 1px);height: 1px;margin: -1px;overflow: hidden;padding: 0;position: absolute;width: 1px;}#sk-container-id-2 div.sk-estimator {font-family: monospace;background-color: #f0f8ff;border: 1px dotted black;border-radius: 0.25em;box-sizing: border-box;margin-bottom: 0.5em;}#sk-container-id-2 div.sk-estimator:hover {background-color: #d4ebff;}#sk-container-id-2 div.sk-parallel-item::after {content: \"\";width: 100%;border-bottom: 1px solid gray;flex-grow: 1;}#sk-container-id-2 div.sk-label:hover label.sk-toggleable__label {background-color: #d4ebff;}#sk-container-id-2 div.sk-serial::before {content: \"\";position: absolute;border-left: 1px solid gray;box-sizing: border-box;top: 0;bottom: 0;left: 50%;z-index: 0;}#sk-container-id-2 div.sk-serial {display: flex;flex-direction: column;align-items: center;background-color: white;padding-right: 0.2em;padding-left: 0.2em;position: relative;}#sk-container-id-2 div.sk-item {position: relative;z-index: 1;}#sk-container-id-2 div.sk-parallel {display: flex;align-items: stretch;justify-content: center;background-color: white;position: relative;}#sk-container-id-2 div.sk-item::before, #sk-container-id-2 div.sk-parallel-item::before {content: \"\";position: absolute;border-left: 1px solid gray;box-sizing: border-box;top: 0;bottom: 0;left: 50%;z-index: -1;}#sk-container-id-2 div.sk-parallel-item {display: flex;flex-direction: column;z-index: 1;position: relative;background-color: white;}#sk-container-id-2 div.sk-parallel-item:first-child::after {align-self: flex-end;width: 50%;}#sk-container-id-2 div.sk-parallel-item:last-child::after {align-self: flex-start;width: 50%;}#sk-container-id-2 div.sk-parallel-item:only-child::after {width: 0;}#sk-container-id-2 div.sk-dashed-wrapped {border: 1px dashed gray;margin: 0 0.4em 0.5em 0.4em;box-sizing: border-box;padding-bottom: 0.4em;background-color: white;}#sk-container-id-2 div.sk-label label {font-family: monospace;font-weight: bold;display: inline-block;line-height: 1.2em;}#sk-container-id-2 div.sk-label-container {text-align: center;}#sk-container-id-2 div.sk-container {/* jupyter's `normalize.less` sets `[hidden] { display: none; }` but bootstrap.min.css set `[hidden] { display: none !important; }` so we also need the `!important` here to be able to override the default hidden behavior on the sphinx rendered scikit-learn.org. See: https://github.com/scikit-learn/scikit-learn/issues/21755 */display: inline-block !important;position: relative;}#sk-container-id-2 div.sk-text-repr-fallback {display: none;}</style><div id=\"sk-container-id-2\" class=\"sk-top-container\"><div class=\"sk-text-repr-fallback\"><pre>KNeighborsClassifier(metric=&#x27;euclidean&#x27;, n_neighbors=3)</pre><b>In a Jupyter environment, please rerun this cell to show the HTML representation or trust the notebook. <br />On GitHub, the HTML representation is unable to render, please try loading this page with nbviewer.org.</b></div><div class=\"sk-container\" hidden><div class=\"sk-item\"><div class=\"sk-estimator sk-toggleable\"><input class=\"sk-toggleable__control sk-hidden--visually\" id=\"sk-estimator-id-2\" type=\"checkbox\" checked><label for=\"sk-estimator-id-2\" class=\"sk-toggleable__label sk-toggleable__label-arrow\">KNeighborsClassifier</label><div class=\"sk-toggleable__content\"><pre>KNeighborsClassifier(metric=&#x27;euclidean&#x27;, n_neighbors=3)</pre></div></div></div></div></div>"
      ],
      "text/plain": [
       "KNeighborsClassifier(metric='euclidean', n_neighbors=3)"
      ]
     },
     "execution_count": 11,
     "metadata": {},
     "output_type": "execute_result"
    }
   ],
   "source": [
    "k = 3\n",
    "\n",
    "# initialize the model using the library in sklearn\n",
    "model = KNeighborsClassifier(n_neighbors=k, metric='euclidean')\n",
    "\n",
    "# \"train\" the model (although we are not actually obtaining a parametric classifier)\n",
    "model.fit(X_train, y_train)"
   ]
  },
  {
   "cell_type": "code",
   "execution_count": 15,
   "id": "8d4cee54",
   "metadata": {},
   "outputs": [
    {
     "name": "stdout",
     "output_type": "stream",
     "text": [
      "[7]\n"
     ]
    }
   ],
   "source": [
    "# get the label for the first item in the testing set\n",
    "print(model.predict([X_test[0]]))"
   ]
  },
  {
   "cell_type": "code",
   "execution_count": 16,
   "id": "314471f1",
   "metadata": {},
   "outputs": [
    {
     "name": "stdout",
     "output_type": "stream",
     "text": [
      "(10000,)\n"
     ]
    }
   ],
   "source": [
    "y_pred = model.predict(X_test)\n",
    "print(y_pred.shape)"
   ]
  },
  {
   "cell_type": "code",
   "execution_count": 19,
   "id": "d5b66c69",
   "metadata": {},
   "outputs": [
    {
     "name": "stdout",
     "output_type": "stream",
     "text": [
      "0.9681\n"
     ]
    }
   ],
   "source": [
    "# check the accuracy score of our k-NN model\n",
    "print(accuracy_score(y_true=y_test, y_pred=y_pred))"
   ]
  },
  {
   "cell_type": "code",
   "execution_count": null,
   "id": "d5b9abda",
   "metadata": {},
   "outputs": [],
   "source": []
  }
 ],
 "metadata": {
  "kernelspec": {
   "display_name": "Python 3 (ipykernel)",
   "language": "python",
   "name": "python3"
  },
  "language_info": {
   "codemirror_mode": {
    "name": "ipython",
    "version": 3
   },
   "file_extension": ".py",
   "mimetype": "text/x-python",
   "name": "python",
   "nbconvert_exporter": "python",
   "pygments_lexer": "ipython3",
   "version": "3.10.6"
  }
 },
 "nbformat": 4,
 "nbformat_minor": 5
}
