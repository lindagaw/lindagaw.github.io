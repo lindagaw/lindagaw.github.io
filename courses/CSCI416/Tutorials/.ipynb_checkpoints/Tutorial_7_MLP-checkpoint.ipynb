{
 "cells": [
  {
   "cell_type": "code",
   "execution_count": 1,
   "id": "b7ce4eba",
   "metadata": {},
   "outputs": [],
   "source": [
    "import time\n",
    "import numpy as np\n",
    "import torch\n",
    "import torchvision\n",
    "from torch.autograd import Variable\n",
    "import torchvision.transforms as transforms\n",
    "import matplotlib.pyplot as plt"
   ]
  },
  {
   "cell_type": "code",
   "execution_count": 2,
   "id": "5e0e1534",
   "metadata": {},
   "outputs": [],
   "source": [
    "# Constants\n",
    "IMAGE_WIDTH = 32\n",
    "IMAGE_HEIGHT = 32\n",
    "COLOR_CHANNELS = 3\n",
    "EPOCHS = 300\n",
    "LEARNING_RATES = [.00001, 0.0001, 0.001, 0.01, 0.1]\n",
    "KEEP_RATES = [.5, .65, .8]\n",
    "MOMENTUM_RATES = [.25, .5, .75]\n",
    "WEIGHT_DECAY_RATES = [.0005, .005, .05]\n",
    "BATCH_SIZE = 32\n",
    "BATCH_IMAGE_COUNT = 10000\n",
    "TRAIN_BATCHS = [\"data_batch_1\", \"data_batch_2\", \"data_batch_3\", \"data_batch_4\"]\n",
    "TEST_BATCHES = [\"data_batch_5\"]\n",
    "CLASSES = ['plane', 'car', 'bird', 'cat', 'deer', 'dog', 'frog', 'horse', 'ship', 'truck']\n",
    "N_CLASSES = len(CLASSES)\n",
    "PLOT = False"
   ]
  },
  {
   "cell_type": "code",
   "execution_count": 3,
   "id": "7e82014d",
   "metadata": {},
   "outputs": [],
   "source": [
    "class Net(torch.nn.Module):\n",
    "    def __init__(self, n_hidden_nodes, n_hidden_layers, activation, keep_rate=0):\n",
    "        super(Net, self).__init__()\n",
    "        self.n_hidden_nodes = n_hidden_nodes\n",
    "        self.n_hidden_layers = n_hidden_layers\n",
    "        self.activation = activation\n",
    "        if not keep_rate:\n",
    "            keep_rate = 0.5\n",
    "        self.keep_rate = keep_rate\n",
    "        # Set up perceptron layers and add dropout\n",
    "        self.fc1 = torch.nn.Linear(IMAGE_WIDTH * IMAGE_WIDTH * COLOR_CHANNELS,\n",
    "                                   n_hidden_nodes)\n",
    "        self.fc1_drop = torch.nn.Dropout(1 - keep_rate)\n",
    "        if n_hidden_layers == 2:\n",
    "            self.fc2 = torch.nn.Linear(n_hidden_nodes,\n",
    "                                       n_hidden_nodes)\n",
    "            self.fc2_drop = torch.nn.Dropout(1 - keep_rate)\n",
    "\n",
    "        self.out = torch.nn.Linear(n_hidden_nodes, N_CLASSES)\n",
    "\n",
    "    def forward(self, x):\n",
    "        x = x.view(-1, IMAGE_WIDTH * IMAGE_WIDTH * COLOR_CHANNELS)\n",
    "        if self.activation == \"sigmoid\":\n",
    "            sigmoid = torch.nn.Sigmoid()\n",
    "            x = sigmoid(self.fc1(x))\n",
    "        elif self.activation == \"relu\":\n",
    "            x = torch.nn.functional.relu(self.fc1(x))\n",
    "        x = self.fc1_drop(x)\n",
    "        if self.n_hidden_layers == 2:\n",
    "            if self.activation == \"sigmoid\":\n",
    "                x = sigmoid(self.fc2(x))\n",
    "            elif self.activation == \"relu\":\n",
    "                x = torch.nn.functional.relu(self.fc2(x))\n",
    "            x = self.fc2_drop(x)\n",
    "        return torch.nn.functional.log_softmax(self.out(x))"
   ]
  },
  {
   "cell_type": "code",
   "execution_count": 4,
   "id": "ff153f93",
   "metadata": {},
   "outputs": [],
   "source": [
    "def train(epoch, model, train_loader, optimizer, log_interval=100, cuda=None):\n",
    "    model.train()\n",
    "    correct = 0\n",
    "    for batch_idx, (data, target) in enumerate(train_loader):\n",
    "        if cuda:\n",
    "            data, target = data.cuda(), target.cuda()\n",
    "        data, target = Variable(data), Variable(target)\n",
    "        optimizer.zero_grad()\n",
    "        output = model(data)\n",
    "\n",
    "        pred = output.data.max(1)[1] # get the index of the max log-probability\n",
    "        correct += pred.eq(target.data).cpu().sum()\n",
    "        accuracy = 100. * correct / len(train_loader.dataset)\n",
    "        loss = torch.nn.functional.nll_loss(output, target)\n",
    "        loss.backward()\n",
    "        optimizer.step()\n",
    "        '''\n",
    "        if batch_idx % log_interval == 0:\n",
    "            print('Train Epoch: {} [{}/{} ({:.0f}%)]\\tLoss: {:.6f} Accuracy: {}'.format(\n",
    "                epoch, batch_idx * len(data), len(train_loader.dataset),\n",
    "                100. * batch_idx / len(train_loader), loss.data[0], accuracy))\n",
    "        '''"
   ]
  },
  {
   "cell_type": "code",
   "execution_count": 5,
   "id": "1ba80ab2",
   "metadata": {},
   "outputs": [],
   "source": [
    "def validate(loss_vector, accuracy_vector, model, validation_loader, cuda=None):\n",
    "    model.eval()\n",
    "    val_loss, correct = 0, 0\n",
    "    for data, target in validation_loader:\n",
    "        if cuda:\n",
    "            data, target = data.cuda(), target.cuda()\n",
    "        data, target = Variable(data, volatile=True), Variable(target)\n",
    "        output = model(data)\n",
    "        val_loss += torch.nn.functional.nll_loss(output, target).data\n",
    "        pred = output.data.max(1)[1] # get the index of the max log-probability\n",
    "        correct += pred.eq(target.data).cpu().sum()\n",
    "\n",
    "    val_loss /= len(validation_loader)\n",
    "    loss_vector.append(val_loss)\n",
    "\n",
    "    accuracy = 100. * correct / len(validation_loader.dataset)\n",
    "    accuracy_vector.append(accuracy)\n",
    "\n",
    "    print('\\nValidation set: Average loss: {:.4f}, Accuracy: {}/{} ({:.0f}%)\\n'.format(\n",
    "        val_loss, correct, len(validation_loader.dataset), accuracy))"
   ]
  },
  {
   "cell_type": "code",
   "execution_count": 6,
   "id": "3aa71db0",
   "metadata": {},
   "outputs": [],
   "source": [
    "def main():\n",
    "    cuda = torch.cuda.is_available()\n",
    "    print('Using PyTorch version:', torch.__version__, 'CUDA:', cuda)\n",
    "\n",
    "    transform = transforms.Compose(\n",
    "    [transforms.ToTensor(),\n",
    "     transforms.Normalize((0.5, 0.5, 0.5), (0.5, 0.5, 0.5))])\n",
    "\n",
    "    trainset = torchvision.datasets.CIFAR10(root='./data', train=True,\n",
    "                                            download=True, transform=transform)\n",
    "    train_loader = torch.utils.data.DataLoader(trainset, batch_size=4,\n",
    "                                              shuffle=True, num_workers=0, pin_memory=False)\n",
    "\n",
    "    testset = torchvision.datasets.CIFAR10(root='./data', train=False,\n",
    "                                           download=True, transform=transform)\n",
    "    validation_loader = torch.utils.data.DataLoader(testset, batch_size=4,\n",
    "                                             shuffle=False, num_workers=0, pin_memory=False)\n",
    "\n",
    "    hidden_nodes = 100\n",
    "    layers = 1\n",
    "    model = Net(hidden_nodes, layers, \"sigmoid\")\n",
    "    if cuda:\n",
    "        model.cuda()\n",
    "    optimizer = torch.optim.SGD(model.parameters(), lr=LEARNING_RATES[1])\n",
    "\n",
    "    loss_vector = []\n",
    "    acc_vector = []\n",
    "    for epoch in range(1, EPOCHS + 1):\n",
    "        print('Epoch {}'.format(epoch))\n",
    "        train(epoch, model, train_loader, optimizer, cuda=cuda)\n",
    "        validate(loss_vector, acc_vector, model, validation_loader, cuda=cuda)\n",
    "        if epoch == 25:\n",
    "            break"
   ]
  },
  {
   "cell_type": "code",
   "execution_count": 7,
   "id": "7aa8f6f0",
   "metadata": {},
   "outputs": [
    {
     "name": "stdout",
     "output_type": "stream",
     "text": [
      "Using PyTorch version: 1.12.1 CUDA: False\n",
      "Files already downloaded and verified\n",
      "Files already downloaded and verified\n"
     ]
    },
    {
     "ename": "NameError",
     "evalue": "name 'i' is not defined",
     "output_type": "error",
     "traceback": [
      "\u001b[0;31m---------------------------------------------------------------------------\u001b[0m",
      "\u001b[0;31mNameError\u001b[0m                                 Traceback (most recent call last)",
      "Cell \u001b[0;32mIn [7], line 1\u001b[0m\n\u001b[0;32m----> 1\u001b[0m \u001b[43mmain\u001b[49m\u001b[43m(\u001b[49m\u001b[43m)\u001b[49m\n",
      "Cell \u001b[0;32mIn [6], line 24\u001b[0m, in \u001b[0;36mmain\u001b[0;34m()\u001b[0m\n\u001b[1;32m     22\u001b[0m \u001b[38;5;28;01mif\u001b[39;00m cuda:\n\u001b[1;32m     23\u001b[0m     model\u001b[38;5;241m.\u001b[39mcuda()\n\u001b[0;32m---> 24\u001b[0m optimizer \u001b[38;5;241m=\u001b[39m torch\u001b[38;5;241m.\u001b[39moptim\u001b[38;5;241m.\u001b[39mSGD(model\u001b[38;5;241m.\u001b[39mparameters(), lr\u001b[38;5;241m=\u001b[39mLEARNING_RATES[\u001b[43mi\u001b[49m\u001b[38;5;241m-\u001b[39m\u001b[38;5;241m1\u001b[39m])\n\u001b[1;32m     26\u001b[0m loss_vector \u001b[38;5;241m=\u001b[39m []\n\u001b[1;32m     27\u001b[0m acc_vector \u001b[38;5;241m=\u001b[39m []\n",
      "\u001b[0;31mNameError\u001b[0m: name 'i' is not defined"
     ]
    }
   ],
   "source": [
    "main()"
   ]
  },
  {
   "cell_type": "code",
   "execution_count": null,
   "id": "d72321f9",
   "metadata": {},
   "outputs": [],
   "source": []
  }
 ],
 "metadata": {
  "kernelspec": {
   "display_name": "Python 3 (ipykernel)",
   "language": "python",
   "name": "python3"
  },
  "language_info": {
   "codemirror_mode": {
    "name": "ipython",
    "version": 3
   },
   "file_extension": ".py",
   "mimetype": "text/x-python",
   "name": "python",
   "nbconvert_exporter": "python",
   "pygments_lexer": "ipython3",
   "version": "3.10.6"
  }
 },
 "nbformat": 4,
 "nbformat_minor": 5
}
